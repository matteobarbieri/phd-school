{
 "cells": [
  {
   "cell_type": "code",
   "execution_count": 1,
   "id": "515f0bc2-7bc4-4e15-add2-ee6ca6657c9e",
   "metadata": {},
   "outputs": [],
   "source": [
    "%reload_ext autoreload\n",
    "%autoreload 2"
   ]
  },
  {
   "cell_type": "markdown",
   "id": "102e7aa9-8160-49ba-a2c2-a276033f091a",
   "metadata": {},
   "source": [
    "# Assignment\n",
    "\n",
    "Hello!\n",
    "\n",
    "In this assignment, you'll be given a dataset you don't know a lot about, and you'll be asked to train a **regressor**, that is a model that estimates a **real-valued number** given some input _features_.\n",
    "\n",
    "You will find a **training set**, consisting of 11 features and one target, and a **test set**, where the target is missing.\n",
    "\n",
    "The goal is to use the training set **however you want**, and then use the trained model to predict the target for the test set.\n",
    "You won't be able to determine the performance of the model on the test set, since you're missing the target for that, so you'll have to do your best to make sure that your model generalizes well on unseen data points.\n",
    "\n",
    "You're expected to produce a csv file with only **one** column (no header) containing all the predictions on the test set, then submit it somewhere (still working on where/how at the time of writing these instructions), and I will evaluate your results (since I have the target for the test set).\n",
    "\n",
    "Some examples are included, as well as some checks to make sure that the output file has the expected format."
   ]
  },
  {
   "cell_type": "code",
   "execution_count": 2,
   "id": "85c0c7e3-4736-4945-a959-cb7e01cd9313",
   "metadata": {},
   "outputs": [],
   "source": [
    "import pandas as pd"
   ]
  },
  {
   "cell_type": "code",
   "execution_count": 3,
   "id": "1a018bcf-2b5e-4a35-8647-ce2cbeed1386",
   "metadata": {},
   "outputs": [],
   "source": [
    "from pathlib import Path"
   ]
  },
  {
   "cell_type": "code",
   "execution_count": 4,
   "id": "b8bab4ac-18f7-4220-8fa0-57b41a2126e0",
   "metadata": {},
   "outputs": [],
   "source": [
    "DATA_FOLDER = \"../data/challenge\"\n",
    "\n",
    "TRAIN_CSV = Path(DATA_FOLDER) / \"challenge_train.csv\"\n",
    "TEST_CSV = Path(DATA_FOLDER) / \"challenge_test.csv\""
   ]
  },
  {
   "cell_type": "code",
   "execution_count": 5,
   "id": "6a0bc9b5-0e74-420b-a95b-6c19df54854f",
   "metadata": {},
   "outputs": [
    {
     "data": {
      "text/html": [
       "<div>\n",
       "<style scoped>\n",
       "    .dataframe tbody tr th:only-of-type {\n",
       "        vertical-align: middle;\n",
       "    }\n",
       "\n",
       "    .dataframe tbody tr th {\n",
       "        vertical-align: top;\n",
       "    }\n",
       "\n",
       "    .dataframe thead th {\n",
       "        text-align: right;\n",
       "    }\n",
       "</style>\n",
       "<table border=\"1\" class=\"dataframe\">\n",
       "  <thead>\n",
       "    <tr style=\"text-align: right;\">\n",
       "      <th></th>\n",
       "      <th>feature_1</th>\n",
       "      <th>feature_2</th>\n",
       "      <th>feature_3</th>\n",
       "      <th>feature_4</th>\n",
       "      <th>feature_5</th>\n",
       "      <th>feature_6</th>\n",
       "      <th>feature_7</th>\n",
       "      <th>feature_8</th>\n",
       "      <th>feature_9</th>\n",
       "      <th>feature_10</th>\n",
       "      <th>feature_11</th>\n",
       "      <th>target</th>\n",
       "    </tr>\n",
       "  </thead>\n",
       "  <tbody>\n",
       "    <tr>\n",
       "      <th>0</th>\n",
       "      <td>329.606668</td>\n",
       "      <td>-114.715869</td>\n",
       "      <td>-28.435582</td>\n",
       "      <td>3236.787208</td>\n",
       "      <td>-397.455876</td>\n",
       "      <td>956.789861</td>\n",
       "      <td>681.827073</td>\n",
       "      <td>1.958500</td>\n",
       "      <td>0.532288</td>\n",
       "      <td>7.006549</td>\n",
       "      <td>prometheus</td>\n",
       "      <td>81695.585876</td>\n",
       "    </tr>\n",
       "    <tr>\n",
       "      <th>1</th>\n",
       "      <td>335.950586</td>\n",
       "      <td>-116.887718</td>\n",
       "      <td>-81.515335</td>\n",
       "      <td>4219.908247</td>\n",
       "      <td>-440.501638</td>\n",
       "      <td>1477.429690</td>\n",
       "      <td>998.676125</td>\n",
       "      <td>1.501246</td>\n",
       "      <td>0.452003</td>\n",
       "      <td>7.445087</td>\n",
       "      <td>prometheus</td>\n",
       "      <td>84468.284549</td>\n",
       "    </tr>\n",
       "    <tr>\n",
       "      <th>2</th>\n",
       "      <td>335.978288</td>\n",
       "      <td>-114.082413</td>\n",
       "      <td>-18.957055</td>\n",
       "      <td>30065.213170</td>\n",
       "      <td>-2545.439435</td>\n",
       "      <td>13552.620106</td>\n",
       "      <td>6709.980549</td>\n",
       "      <td>2.015428</td>\n",
       "      <td>0.611648</td>\n",
       "      <td>5.981045</td>\n",
       "      <td>prometheus</td>\n",
       "      <td>118235.793378</td>\n",
       "    </tr>\n",
       "    <tr>\n",
       "      <th>3</th>\n",
       "      <td>324.869508</td>\n",
       "      <td>-100.146381</td>\n",
       "      <td>-64.453986</td>\n",
       "      <td>6048.970645</td>\n",
       "      <td>-462.024520</td>\n",
       "      <td>2233.270845</td>\n",
       "      <td>1331.568166</td>\n",
       "      <td>2.404268</td>\n",
       "      <td>1.197221</td>\n",
       "      <td>3.540756</td>\n",
       "      <td>enterprise</td>\n",
       "      <td>155370.150594</td>\n",
       "    </tr>\n",
       "    <tr>\n",
       "      <th>4</th>\n",
       "      <td>331.656668</td>\n",
       "      <td>-103.856623</td>\n",
       "      <td>-62.558280</td>\n",
       "      <td>3357.635974</td>\n",
       "      <td>-540.941751</td>\n",
       "      <td>1719.481540</td>\n",
       "      <td>1427.826106</td>\n",
       "      <td>1.295065</td>\n",
       "      <td>0.788453</td>\n",
       "      <td>5.991467</td>\n",
       "      <td>enterprise</td>\n",
       "      <td>241422.834384</td>\n",
       "    </tr>\n",
       "  </tbody>\n",
       "</table>\n",
       "</div>"
      ],
      "text/plain": [
       "    feature_1   feature_2  feature_3     feature_4    feature_5     feature_6  \\\n",
       "0  329.606668 -114.715869 -28.435582   3236.787208  -397.455876    956.789861   \n",
       "1  335.950586 -116.887718 -81.515335   4219.908247  -440.501638   1477.429690   \n",
       "2  335.978288 -114.082413 -18.957055  30065.213170 -2545.439435  13552.620106   \n",
       "3  324.869508 -100.146381 -64.453986   6048.970645  -462.024520   2233.270845   \n",
       "4  331.656668 -103.856623 -62.558280   3357.635974  -540.941751   1719.481540   \n",
       "\n",
       "     feature_7  feature_8  feature_9  feature_10  feature_11         target  \n",
       "0   681.827073   1.958500   0.532288    7.006549  prometheus   81695.585876  \n",
       "1   998.676125   1.501246   0.452003    7.445087  prometheus   84468.284549  \n",
       "2  6709.980549   2.015428   0.611648    5.981045  prometheus  118235.793378  \n",
       "3  1331.568166   2.404268   1.197221    3.540756  enterprise  155370.150594  \n",
       "4  1427.826106   1.295065   0.788453    5.991467  enterprise  241422.834384  "
      ]
     },
     "execution_count": 5,
     "metadata": {},
     "output_type": "execute_result"
    }
   ],
   "source": [
    "df_train = pd.read_csv(TRAIN_CSV)\n",
    "df_train.head()"
   ]
  },
  {
   "cell_type": "code",
   "execution_count": null,
   "id": "edf7115c-cddd-4c81-a762-aa0698d919a8",
   "metadata": {},
   "outputs": [],
   "source": [
    "df_test = pd.read_csv(TEST_CSV)\n",
    "df_test.head()\n",
    "\n",
    "# You might need to do this if you use some specific algorithm\n",
    "df_train['feature_11'] = df_train['feature_11'].astype(\"category\")\n",
    "df_test['feature_11'] = df_test['feature_11'].astype(\"category\")"
   ]
  },
  {
   "cell_type": "markdown",
   "id": "bb650179-2ad2-4c8a-a70b-2118cf0e77ec",
   "metadata": {},
   "source": [
    "## Examples"
   ]
  },
  {
   "cell_type": "code",
   "execution_count": 9,
   "id": "a3b48dc9-3207-4adc-9311-a7ad4b46cd15",
   "metadata": {},
   "outputs": [],
   "source": [
    "# A silly thing you can do, which is better than nothing, is to always predict the same value, \n",
    "# the mean of the target computed on the training set\n",
    "y_hat_dumb = len(df_test)*[df_train['target'].mean()]\n",
    "\n",
    "y_hat = y_hat_dumb"
   ]
  },
  {
   "cell_type": "code",
   "execution_count": 10,
   "id": "9e6558a2-315e-4b30-99d3-ac68c20a0a38",
   "metadata": {},
   "outputs": [],
   "source": [
    "# This should make sure that your data has the right format\n",
    "# If you see an error, something is wrong\n",
    "assert len(y_hat) == len(df_test)"
   ]
  },
  {
   "cell_type": "code",
   "execution_count": 12,
   "id": "3f6f7ff0-4a3e-4b30-be26-bea94ae19fea",
   "metadata": {},
   "outputs": [],
   "source": [
    "# Save file somewhere to disk\n",
    "pd.DataFrame(y_hat).to_csv(\"test_predictions_MYNAMEORGROUPNAME.csv\", header=False, index=False)"
   ]
  }
 ],
 "metadata": {
  "kernelspec": {
   "display_name": "Python 3 (ipykernel)",
   "language": "python",
   "name": "python3"
  },
  "language_info": {
   "codemirror_mode": {
    "name": "ipython",
    "version": 3
   },
   "file_extension": ".py",
   "mimetype": "text/x-python",
   "name": "python",
   "nbconvert_exporter": "python",
   "pygments_lexer": "ipython3",
   "version": "3.12.7"
  }
 },
 "nbformat": 4,
 "nbformat_minor": 5
}
