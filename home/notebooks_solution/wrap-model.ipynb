{
 "cells": [
  {
   "cell_type": "markdown",
   "id": "cdff2ba1-341e-4d71-a04d-f9cebf6a4e4c",
   "metadata": {},
   "source": [
    "# Creating a wrapper for your model\n",
    "\n",
    "In this short lab, we will create a **wrapper** for your model.\n",
    "\n",
    "A wrapper is, as the name suggests, a bunch of code used to _wrap_ some more code. We do that so that we have some more control over how we interact with the model, specifically what is the name of the function/method that we use for generating _predictions_. This will become useful when we switch to a different ML framework, that does not have a `predict()` function (simply because it's called in a different way, or maybe it requires extra steps).\n",
    "\n",
    "We'll write a _class_ that exposes two methods:\n",
    "- **predict()**: expects several examples as input, produces that many outputs.\n",
    "- **predictOne()**: expects only one example, and produces only one output.\n",
    "\n",
    "We'll be a bit fancy here, and actually have a sort-of _abstract_ class called `TrainedModelWrapper` that will serve as a kind of _blueprint_ to determine how wrappers should look like. Then, each specific wrapper (we'll need one for each type of ML framework that we want to adapt) will _inherit_ from that. Don't worry too much about this right now!\n",
    "\n",
    "Again, we're being quite liberal here for what it concerns how we write the code, but it's ok for now."
   ]
  },
  {
   "cell_type": "code",
   "execution_count": 1,
   "id": "cc5a4c07-6ac0-4e47-a72c-995fb85e87bd",
   "metadata": {},
   "outputs": [],
   "source": [
    "# %%writefile model_wrapper.py\n",
    "\n",
    "import numpy as np\n",
    "\n",
    "class TrainedModelWrapper:\n",
    "\n",
    "    def predict(self, X: np.ndarray) -> np.ndarray:\n",
    "        \"\"\"\n",
    "        Assumes X has shape (n, p), where n is the number of samples and p the number of features\n",
    "        \"\"\"\n",
    "        raise Exception(\"NotImplemented\")\n",
    "    \n",
    "    def predictOne(self, x: np.ndarray) -> float | int:\n",
    "        \"\"\"\n",
    "        Assumes the input is a one-dimensional array (a vector).\n",
    "        Its shape should be something like (p,)\n",
    "        \"\"\"\n",
    "        return self.predict(x[np.newaxis, :])[0]\n",
    "\n",
    "class TrainedSklearnModelWrapper(TrainedModelWrapper):\n",
    "\n",
    "    def __init__(self, model):\n",
    "        \"\"\"\n",
    "        This is the class' **constructor**. It is called every time you _instantiate_ a new\n",
    "        object of this class, that is when you write something like\n",
    "        my_instance = TrainedSklearnModelWrapper(...).\n",
    "\n",
    "        This specific constructor accepts exactly **one** parameter, which is \"saved\" in\n",
    "        a variable so that it is available from within that instance through using `self`.\n",
    "        These are called _properties_.\n",
    "\n",
    "        tl;dr: from now on, you can access the model from within other function of this class\n",
    "        using `self.model`\n",
    "        \"\"\"\n",
    "        self.model = model\n",
    "\n",
    "    def predict(self, X: np.ndarray) -> np.ndarray:\n",
    "        \"\"\"\n",
    "        Assumes X has shape (n, p), where n is the number of samples and p the number of features\n",
    "        \"\"\"\n",
    "\n",
    "        ### TODO ###\n",
    "        # Hint: you will likely want to use the `.predict()` function of the model you saved\n",
    "        # Hint: you can access previously stored properties using `self.`\n",
    "        return self.model.predict(X)\n",
    "        ### END ###"
   ]
  },
  {
   "cell_type": "markdown",
   "id": "fc60a867-a37c-49c5-aeb3-fa36dbe4b0e4",
   "metadata": {},
   "source": [
    "Now we check that the wrapper actually works and produces the expected results"
   ]
  },
  {
   "cell_type": "code",
   "execution_count": 2,
   "id": "49c2393d-8852-4670-95de-6b9df638d209",
   "metadata": {},
   "outputs": [
    {
     "name": "stdout",
     "output_type": "stream",
     "text": [
      "<class 'sklearn.linear_model._logistic.LogisticRegression'>\n"
     ]
    }
   ],
   "source": [
    "# Load the model saved in the previous lab\n",
    "\n",
    "import pickle as pkl\n",
    "\n",
    "with open(\"../artifacts/best_model_sklearn.pkl\", 'rb') as f:\n",
    "    model = pkl.load(f)\n",
    "\n",
    "# We print the type of the model, to make sure that we're loading the right thing.\n",
    "# It should print something like \"sklearn.<SOMETHINGSOMETHING>\"\n",
    "print(type(model))"
   ]
  },
  {
   "cell_type": "code",
   "execution_count": 3,
   "id": "0e663356-3f69-4b03-9586-b651626cfb19",
   "metadata": {},
   "outputs": [],
   "source": [
    "# We create the wrapper object, passing the model as the only argument to the constructor\n",
    "wrapped_model = TrainedSklearnModelWrapper(model)"
   ]
  },
  {
   "cell_type": "markdown",
   "id": "fe3824d5-e22c-4a0e-80ac-0bef0db2681e",
   "metadata": {},
   "source": [
    "We want to test the wrapped model by running on a small subsample of the test set, just to make sure that the results make sense."
   ]
  },
  {
   "cell_type": "code",
   "execution_count": 4,
   "id": "c3c70430-4dd6-4cf9-9dd5-84cbc825bd8e",
   "metadata": {},
   "outputs": [],
   "source": [
    "from pathlib import Path # Handling files and folder paths\n",
    "\n",
    "DATA_DIR = \"../data/MNIST_CSV\"\n",
    "TEST_CSV = Path(DATA_DIR) / \"mnist_test.csv\""
   ]
  },
  {
   "cell_type": "code",
   "execution_count": 5,
   "id": "59ebc197-4595-4cca-819e-f0b1a7982b01",
   "metadata": {},
   "outputs": [
    {
     "data": {
      "text/html": [
       "<div>\n",
       "<style scoped>\n",
       "    .dataframe tbody tr th:only-of-type {\n",
       "        vertical-align: middle;\n",
       "    }\n",
       "\n",
       "    .dataframe tbody tr th {\n",
       "        vertical-align: top;\n",
       "    }\n",
       "\n",
       "    .dataframe thead th {\n",
       "        text-align: right;\n",
       "    }\n",
       "</style>\n",
       "<table border=\"1\" class=\"dataframe\">\n",
       "  <thead>\n",
       "    <tr style=\"text-align: right;\">\n",
       "      <th></th>\n",
       "      <th>0</th>\n",
       "      <th>1</th>\n",
       "      <th>2</th>\n",
       "      <th>3</th>\n",
       "      <th>4</th>\n",
       "      <th>5</th>\n",
       "      <th>6</th>\n",
       "      <th>7</th>\n",
       "      <th>8</th>\n",
       "      <th>9</th>\n",
       "      <th>...</th>\n",
       "      <th>775</th>\n",
       "      <th>776</th>\n",
       "      <th>777</th>\n",
       "      <th>778</th>\n",
       "      <th>779</th>\n",
       "      <th>780</th>\n",
       "      <th>781</th>\n",
       "      <th>782</th>\n",
       "      <th>783</th>\n",
       "      <th>784</th>\n",
       "    </tr>\n",
       "  </thead>\n",
       "  <tbody>\n",
       "    <tr>\n",
       "      <th>0</th>\n",
       "      <td>7</td>\n",
       "      <td>0</td>\n",
       "      <td>0</td>\n",
       "      <td>0</td>\n",
       "      <td>0</td>\n",
       "      <td>0</td>\n",
       "      <td>0</td>\n",
       "      <td>0</td>\n",
       "      <td>0</td>\n",
       "      <td>0</td>\n",
       "      <td>...</td>\n",
       "      <td>0</td>\n",
       "      <td>0</td>\n",
       "      <td>0</td>\n",
       "      <td>0</td>\n",
       "      <td>0</td>\n",
       "      <td>0</td>\n",
       "      <td>0</td>\n",
       "      <td>0</td>\n",
       "      <td>0</td>\n",
       "      <td>0</td>\n",
       "    </tr>\n",
       "    <tr>\n",
       "      <th>1</th>\n",
       "      <td>2</td>\n",
       "      <td>0</td>\n",
       "      <td>0</td>\n",
       "      <td>0</td>\n",
       "      <td>0</td>\n",
       "      <td>0</td>\n",
       "      <td>0</td>\n",
       "      <td>0</td>\n",
       "      <td>0</td>\n",
       "      <td>0</td>\n",
       "      <td>...</td>\n",
       "      <td>0</td>\n",
       "      <td>0</td>\n",
       "      <td>0</td>\n",
       "      <td>0</td>\n",
       "      <td>0</td>\n",
       "      <td>0</td>\n",
       "      <td>0</td>\n",
       "      <td>0</td>\n",
       "      <td>0</td>\n",
       "      <td>0</td>\n",
       "    </tr>\n",
       "    <tr>\n",
       "      <th>2</th>\n",
       "      <td>1</td>\n",
       "      <td>0</td>\n",
       "      <td>0</td>\n",
       "      <td>0</td>\n",
       "      <td>0</td>\n",
       "      <td>0</td>\n",
       "      <td>0</td>\n",
       "      <td>0</td>\n",
       "      <td>0</td>\n",
       "      <td>0</td>\n",
       "      <td>...</td>\n",
       "      <td>0</td>\n",
       "      <td>0</td>\n",
       "      <td>0</td>\n",
       "      <td>0</td>\n",
       "      <td>0</td>\n",
       "      <td>0</td>\n",
       "      <td>0</td>\n",
       "      <td>0</td>\n",
       "      <td>0</td>\n",
       "      <td>0</td>\n",
       "    </tr>\n",
       "    <tr>\n",
       "      <th>3</th>\n",
       "      <td>0</td>\n",
       "      <td>0</td>\n",
       "      <td>0</td>\n",
       "      <td>0</td>\n",
       "      <td>0</td>\n",
       "      <td>0</td>\n",
       "      <td>0</td>\n",
       "      <td>0</td>\n",
       "      <td>0</td>\n",
       "      <td>0</td>\n",
       "      <td>...</td>\n",
       "      <td>0</td>\n",
       "      <td>0</td>\n",
       "      <td>0</td>\n",
       "      <td>0</td>\n",
       "      <td>0</td>\n",
       "      <td>0</td>\n",
       "      <td>0</td>\n",
       "      <td>0</td>\n",
       "      <td>0</td>\n",
       "      <td>0</td>\n",
       "    </tr>\n",
       "    <tr>\n",
       "      <th>4</th>\n",
       "      <td>4</td>\n",
       "      <td>0</td>\n",
       "      <td>0</td>\n",
       "      <td>0</td>\n",
       "      <td>0</td>\n",
       "      <td>0</td>\n",
       "      <td>0</td>\n",
       "      <td>0</td>\n",
       "      <td>0</td>\n",
       "      <td>0</td>\n",
       "      <td>...</td>\n",
       "      <td>0</td>\n",
       "      <td>0</td>\n",
       "      <td>0</td>\n",
       "      <td>0</td>\n",
       "      <td>0</td>\n",
       "      <td>0</td>\n",
       "      <td>0</td>\n",
       "      <td>0</td>\n",
       "      <td>0</td>\n",
       "      <td>0</td>\n",
       "    </tr>\n",
       "  </tbody>\n",
       "</table>\n",
       "<p>5 rows × 785 columns</p>\n",
       "</div>"
      ],
      "text/plain": [
       "   0    1    2    3    4    5    6    7    8    9    ...  775  776  777  778  \\\n",
       "0    7    0    0    0    0    0    0    0    0    0  ...    0    0    0    0   \n",
       "1    2    0    0    0    0    0    0    0    0    0  ...    0    0    0    0   \n",
       "2    1    0    0    0    0    0    0    0    0    0  ...    0    0    0    0   \n",
       "3    0    0    0    0    0    0    0    0    0    0  ...    0    0    0    0   \n",
       "4    4    0    0    0    0    0    0    0    0    0  ...    0    0    0    0   \n",
       "\n",
       "   779  780  781  782  783  784  \n",
       "0    0    0    0    0    0    0  \n",
       "1    0    0    0    0    0    0  \n",
       "2    0    0    0    0    0    0  \n",
       "3    0    0    0    0    0    0  \n",
       "4    0    0    0    0    0    0  \n",
       "\n",
       "[5 rows x 785 columns]"
      ]
     },
     "execution_count": 5,
     "metadata": {},
     "output_type": "execute_result"
    }
   ],
   "source": [
    "import pandas as pd\n",
    "\n",
    "test_df = pd.read_csv(TEST_CSV, header=None)\n",
    "test_df.head()"
   ]
  },
  {
   "cell_type": "markdown",
   "id": "7aca6eb5-6a22-4626-87df-85505da27de0",
   "metadata": {},
   "source": [
    "If you remember from the previous lab, the first column indicates the actual digit shown in the picture. Let's isolate it, for clarity."
   ]
  },
  {
   "cell_type": "code",
   "execution_count": 6,
   "id": "46001cd4-9eaf-41b5-a469-1b6242a79e7d",
   "metadata": {},
   "outputs": [
    {
     "data": {
      "text/plain": [
       "0    7\n",
       "1    2\n",
       "2    1\n",
       "3    0\n",
       "4    4\n",
       "Name: 0, dtype: int64"
      ]
     },
     "execution_count": 6,
     "metadata": {},
     "output_type": "execute_result"
    }
   ],
   "source": [
    "### TODO ###\n",
    "# Hint: requires `.iloc` and slicing using square brackets. Refer to previous lab for more hints\n",
    "test_df.head().iloc[:, 0]\n",
    "### END ###"
   ]
  },
  {
   "cell_type": "markdown",
   "id": "38ba2d84-4e6d-4fa8-8f29-9d73206b193b",
   "metadata": {},
   "source": [
    "So the labels of the first 5 examples in the test set should be `7 2 1 0 4`. Let's see if the algorithm we chose gets those right."
   ]
  },
  {
   "cell_type": "code",
   "execution_count": 7,
   "id": "5f1c898f-955f-424c-abc1-436a551c5357",
   "metadata": {},
   "outputs": [
    {
     "name": "stdout",
     "output_type": "stream",
     "text": [
      "[7 2 1 0 4]\n"
     ]
    }
   ],
   "source": [
    "y_pred = wrapped_model.predict(test_df.head().iloc[:5, 1:])\n",
    "print(y_pred)"
   ]
  },
  {
   "cell_type": "code",
   "execution_count": 8,
   "id": "bf8a5bb2-cfad-45a6-986c-105b92be8477",
   "metadata": {},
   "outputs": [
    {
     "name": "stdout",
     "output_type": "stream",
     "text": [
      "2\n"
     ]
    }
   ],
   "source": [
    "# Let's also check that `.predictOne()` works as intended\n",
    "y_pred = wrapped_model.predictOne(test_df.head().iloc[1, 1:].to_numpy()) # We need to use to_numpy() explicitly here because of how `.predictOne()` works\n",
    "print(y_pred)"
   ]
  },
  {
   "cell_type": "markdown",
   "id": "57e0c87b-5a21-49ca-a8ac-b91a93b86554",
   "metadata": {},
   "source": [
    "Depending on the model you chose, you may have gotten slightly different results, but hopefully most of the predicted labels should be correct!\n",
    "\n",
    "If you want to play around with your trained model a little more, you can try and classify more than the first 5 examples.\n",
    "\n",
    "You can control how many rows are displayed when using the `.head()` function by passing it a parameter `n`, for instance if you want to display the first 7 rows you would use `.head(n=7)`. Remember to adjust the slicing when using `.iloc` as well!\n",
    "\n",
    "In these cases, it's useful to _parametrize_ N, that is saving it in a variable and then using that variable instead of the number directly; this way, if you want to change that number you only have to do that in once place."
   ]
  },
  {
   "cell_type": "markdown",
   "id": "a9827e47-7e97-4064-988e-1fd0184cb711",
   "metadata": {},
   "source": [
    "Now that you have tested that your wrapper does indeed what it should, go up to the first cell of this notebook, **uncomment** the first line (the one with `%%writefile model_wrapper.py`) and **run** that cell again: you should see a new file called `model_wrapper.py` appearing in the `notebooks` folder (check the column on the left)."
   ]
  }
 ],
 "metadata": {
  "kernelspec": {
   "display_name": "Python 3 (ipykernel)",
   "language": "python",
   "name": "python3"
  },
  "language_info": {
   "codemirror_mode": {
    "name": "ipython",
    "version": 3
   },
   "file_extension": ".py",
   "mimetype": "text/x-python",
   "name": "python",
   "nbconvert_exporter": "python",
   "pygments_lexer": "ipython3",
   "version": "3.11.9"
  }
 },
 "nbformat": 4,
 "nbformat_minor": 5
}
